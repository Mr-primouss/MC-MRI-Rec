{
 "cells": [
  {
   "cell_type": "markdown",
   "metadata": {},
   "source": [
    "# Challenge Leaderboard\n",
    "\n",
    "Computes the challenge ranking for each track and saves the rankings as  html tables. "
   ]
  },
  {
   "cell_type": "code",
   "execution_count": 1,
   "metadata": {},
   "outputs": [
    {
     "name": "stdout",
     "output_type": "stream",
     "text": [
      "['HYBRID-CASCADE-baseline' 'M-L-UNICAMP' 'PARALLEL-HYBRID-baseline'\n",
      " 'ResoNNance' 'TUMRI' 'UNET-baseline' 'WWnet-baseline' 'ZF-baseline']\n"
     ]
    }
   ],
   "source": [
    "%matplotlib inline\n",
    "import numpy as np\n",
    "import os\n",
    "import glob\n",
    "import pickle\n",
    "import h5py\n",
    "import sys\n",
    "import pandas as pd\n",
    "import natsort\n",
    "\n",
    "results = glob.glob(\"../../../Results-submissions/Metrics/*.pickle\")\n",
    "results = natsort.natsorted(results)\n",
    "\n",
    "t1_r5 = 'track01_12_channel_R=5'\n",
    "t1_r10 = 'track01_12_channel_R=10'\n",
    "\n",
    "names = []\n",
    "ssim_rank = []\n",
    "vif_rank = []\n",
    "psnr_rank = []\n",
    "for ii in results:\n",
    "    name = ii.split(\"/\")[-1].split(\".pickle\")[0]\n",
    "    \n",
    "    res_file = open(ii,'rb')\n",
    "    res = pickle.load(res_file)\n",
    "    res_file.close()\n",
    "\n",
    "    try:\n",
    "       res = np.concatenate((res[t1_r5], res[t1_r10]), axis = 0)\n",
    "       names.append(name)\n",
    "       ssim_rank.append(res[:,0].mean())\n",
    "       psnr_rank.append(res[:,1].mean())\n",
    "       vif_rank.append(res[:,2].mean())\n",
    "    except:\n",
    "       continue    \n",
    "names = np.array(names)\n",
    "\n",
    "print(names)\n",
    "\n",
    "df = pd.DataFrame({'SSIM':ssim_rank, \"pSNR\":psnr_rank,\"VIF\":vif_rank})#,\"Overall-rank\":final_rank\n",
    "df[\"Team\"] = pd.Series(names, dtype=\"string\")\n",
    "df[\"Ranking-SSIM\"] = (df[\"SSIM\"].rank(ascending = False)).astype(int)\n",
    "df[\"Ranking-pSNR\"] = (df[\"pSNR\"].rank(ascending = False)).astype(int) \n",
    "df[\"Ranking-VIF\"] = (df[\"VIF\"].rank(ascending = False)).astype(int)\n",
    "df[\"Final-Score\"] = 0.4*df[\"Ranking-SSIM\"] + 0.2*df[\"Ranking-pSNR\"] + 0.4*df[\"Ranking-VIF\"]\n",
    "df[\"Ranking-Final\"] = df[\"Final-Score\"].rank().astype(int) \n",
    "\n",
    "rank_table  = df[[\"Team\",\"Ranking-SSIM\", \"Ranking-pSNR\", \"Ranking-VIF\", \"Final-Score\", \"Ranking-Final\"]]\n",
    "df.style.set_properties(**{'text-align': 'center'})\n",
    "rank_table = rank_table.sort_values(by=[\"Final-Score\"])\n",
    "html = rank_table.to_html(justify = \"center\",index = False)\n",
    "rank_table.to_html(open('mc-mrrec-track01-ranking.html', 'w'),index = False)"
   ]
  },
  {
   "cell_type": "code",
   "execution_count": 2,
   "metadata": {},
   "outputs": [
    {
     "name": "stdout",
     "output_type": "stream",
     "text": [
      "['ResoNNance' 'UNET-baseline' 'ZF-baseline']\n"
     ]
    }
   ],
   "source": [
    "t2_c12_r5 = 'track02_12_channel_R=5'\n",
    "t2_c12_r10 = 'track02_12_channel_R=10'\n",
    "t2_c32_r5 = 'track02_32_channel_R=5'\n",
    "t2_c32_r10 = 'track02_32_channel_R=10'\n",
    "\n",
    "names = []\n",
    "ssim_rank = []\n",
    "vif_rank = []\n",
    "psnr_rank = []\n",
    "for ii in results:\n",
    "    name = ii.split(\"/\")[-1].split(\".pickle\")[0]\n",
    "    \n",
    "    res_file = open(ii,'rb')\n",
    "    res = pickle.load(res_file)\n",
    "    res_file.close()\n",
    "    \n",
    "    try:\n",
    "       res = np.concatenate((res[t2_c12_r5], res[t2_c12_r10],res[t2_c32_r5], res[t2_c32_r10]), axis = 0)\n",
    "       names.append(name)\n",
    "       ssim_rank.append(res[:,0].mean())\n",
    "       psnr_rank.append(res[:,1].mean())\n",
    "       vif_rank.append(res[:,2].mean())\n",
    "    except:\n",
    "       continue\n",
    "names = np.array(names)\n",
    "\n",
    "print(names)\n",
    "\n",
    "df = pd.DataFrame({'SSIM':ssim_rank, \"pSNR\":psnr_rank,\"VIF\":vif_rank})#,\"Overall-rank\":final_rank\n",
    "df[\"Team\"] = pd.Series(names, dtype=\"string\")\n",
    "df[\"Ranking-SSIM\"] = (df[\"SSIM\"].rank(ascending = False)).astype(int)\n",
    "df[\"Ranking-pSNR\"] = (df[\"pSNR\"].rank(ascending = False)).astype(int) \n",
    "df[\"Ranking-VIF\"] = (df[\"VIF\"].rank(ascending = False)).astype(int)\n",
    "df[\"Final-Score\"] = 0.4*df[\"Ranking-SSIM\"] + 0.2*df[\"Ranking-pSNR\"] + 0.4*df[\"Ranking-VIF\"]\n",
    "df[\"Ranking-Final\"] = df[\"Final-Score\"].rank().astype(int) \n",
    "\n",
    "rank_table  = df[[\"Team\",\"Ranking-SSIM\", \"Ranking-pSNR\", \"Ranking-VIF\", \"Final-Score\", \"Ranking-Final\"]]\n",
    "df.style.set_properties(**{'text-align': 'center'})\n",
    "rank_table = rank_table.sort_values(by=[\"Final-Score\"])\n",
    "html = rank_table.to_html(justify = \"center\",index = False)\n",
    "rank_table.head(10)\n",
    "rank_table.to_html(open('mc-mrrec-track02-ranking.html', 'w'),index = False)"
   ]
  }
 ],
 "metadata": {
  "kernelspec": {
   "display_name": "Python 3",
   "language": "python",
   "name": "python3"
  },
  "language_info": {
   "codemirror_mode": {
    "name": "ipython",
    "version": 3
   },
   "file_extension": ".py",
   "mimetype": "text/x-python",
   "name": "python",
   "nbconvert_exporter": "python",
   "pygments_lexer": "ipython3",
   "version": "3.6.9"
  }
 },
 "nbformat": 4,
 "nbformat_minor": 4
}

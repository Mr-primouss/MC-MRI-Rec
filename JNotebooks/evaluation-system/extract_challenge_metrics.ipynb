{
 "cells": [
  {
   "cell_type": "code",
   "execution_count": null,
   "metadata": {},
   "outputs": [
    {
     "name": "stdout",
     "output_type": "stream",
     "text": [
      "0\n",
      "/media/roberto/ROBERTO-5TB/GDrive/PDF-Calgary/Applications/MIDL-2020-challenge/Results-submissions/zero-filled-baseline/Track01/12-channel-R=5/e13991s3_P01536.7.h5\n",
      "/media/roberto/ROBERTO-5TB/GDrive/PDF-Calgary/Applications/MIDL-2020-challenge/Results-submissions/zero-filled-baseline/Track01/12-channel-R=5/e13991s3_P01536.7.h5\n",
      "/media/roberto/ROBERTO-5TB/GDrive/PDF-Calgary/Applications/MIDL-2020-challenge/Results-submissions/zero-filled-baseline/Track01/12-channel-R=5/e13992s4_P08704.7.h5\n",
      "/media/roberto/ROBERTO-5TB/GDrive/PDF-Calgary/Applications/MIDL-2020-challenge/Results-submissions/zero-filled-baseline/Track01/12-channel-R=5/e13993s4_P16896.7.h5\n",
      "/media/roberto/ROBERTO-5TB/GDrive/PDF-Calgary/Applications/MIDL-2020-challenge/Results-submissions/zero-filled-baseline/Track01/12-channel-R=5/e14078s3_P02048.7.h5\n",
      "/media/roberto/ROBERTO-5TB/GDrive/PDF-Calgary/Applications/MIDL-2020-challenge/Results-submissions/zero-filled-baseline/Track01/12-channel-R=5/e14079s3_P09216.7.h5\n"
     ]
    }
   ],
   "source": [
    "%matplotlib inline\n",
    "import sys\n",
    "sys.path.append(\"../../Modules/\")\n",
    "import numpy as np\n",
    "import os\n",
    "import glob\n",
    "import pickle\n",
    "import h5py\n",
    "from metrics import metrics\n",
    "\n",
    "results_path = \"/media/roberto/ROBERTO-5TB/GDrive/PDF-Calgary/Applications/MIDL-2020-challenge/Results-submissions/\"\n",
    "team_name = \"zero-filled-baseline\"\n",
    "reference = \"reference\"\n",
    "nfiles = 50\n",
    "nslices = 156\n",
    "res_dic = {}\n",
    "\n",
    "recs = [os.path.join(results_path,team_name,\"Track01\",\"12-channel-R=5\",\"*.h5\"),\\\n",
    "        os.path.join(results_path,team_name,\"Track01\",\"12-channel-R=10\",\"*.h5\"),\\\n",
    "        os.path.join(results_path,team_name,\"Track02\",\"12-channel-R=5\",\"*.h5\"),\\\n",
    "        os.path.join(results_path,team_name,\"Track02\",\"12-channel-R=10\",\"*.h5\"),\\\n",
    "        os.path.join(results_path,team_name,\"Track02\",\"32-channel-R=5\",\"*.h5\"),\\\n",
    "        os.path.join(results_path,team_name,\"Track02\",\"32-channel-R=10\",\"*.h5\")]\n",
    "\n",
    "refs = [os.path.join(results_path,reference,\"12-channel\"), \\\n",
    "        os.path.join(results_path,reference,\"12-channel\"), \\\n",
    "        os.path.join(results_path,reference,\"12-channel\"), \\\n",
    "        os.path.join(results_path,reference,\"12-channel\"), \\\n",
    "        os.path.join(results_path,reference,\"32-channel\"), \\\n",
    "        os.path.join(results_path,reference,\"32-channel\")]\n",
    "\n",
    "\n",
    "dic_keys = [\"track01_12_channel_R=5\",\"track01_12_channel_R=10\",\"track02_12_channel_R=5\",\"track02_12_channel_R=10\",\\\n",
    "            \"track02_32_channel_R=5\",\"track02_32_channel_R=10\"]\n",
    "\n",
    "for i in range(len(recs)):\n",
    "    print(i)\n",
    "    rec_path = glob.glob(recs[i])\n",
    "    rec_path.sort()\n",
    "    print(rec_path[0])\n",
    "    if len(rec_path) != 50:\n",
    "        print(recs[i])\n",
    "        print(\"Number of files incompaible with number of files in the test set!\")\n",
    "        continue\n",
    "    \n",
    "    m = np.zeros((nfiles*nslices,3))\n",
    "    for (jj,ii) in enumerate(rec_path):\n",
    "        print(ii)\n",
    "        with h5py.File(ii, 'r') as f:\n",
    "            rec = f['reconstruction'][()]\n",
    "\n",
    "        name = ii.split(\"/\")[-1]\n",
    "        with h5py.File(os.path.join(refs[i],name), 'r') as f:\n",
    "            ref = f['reconstruction'][()]\n",
    "        \n",
    "        ref_max = ref.max(axis = (1,2),keepdims = True)\n",
    "        ref = ref/ref_max\n",
    "        \n",
    "        rec = rec/ref_max\n",
    "        \n",
    "        ssim,psnr,vif = metrics(rec,ref)    \n",
    "        m[jj*nslices:(jj+1)*nslices,0] = ssim\n",
    "        m[jj*nslices:(jj+1)*nslices,1] = psnr\n",
    "        m[jj*nslices:(jj+1)*nslices,2] = vif\n",
    "\n",
    "    res_dic[dic_keys[i]] = m    \n",
    "    \n",
    "with open(os.path.join(results_path,'Metrics',team_name + '.pickle'), 'wb') as handle:\n",
    "    pickle.dump(res_dic, handle, protocol=pickle.HIGHEST_PROTOCOL)"
   ]
  }
 ],
 "metadata": {
  "kernelspec": {
   "display_name": "Python 3",
   "language": "python",
   "name": "python3"
  },
  "language_info": {
   "codemirror_mode": {
    "name": "ipython",
    "version": 3
   },
   "file_extension": ".py",
   "mimetype": "text/x-python",
   "name": "python",
   "nbconvert_exporter": "python",
   "pygments_lexer": "ipython3",
   "version": "3.6.9"
  }
 },
 "nbformat": 4,
 "nbformat_minor": 4
}
